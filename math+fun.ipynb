{
 "cells": [
  {
   "cell_type": "markdown",
   "metadata": {},
   "source": [
    "# Common Core Math Reference Sheet\n",
    "This Jupyter notebook contains functions that perfectly model the equations on the NYS, Common Core math reference sheet. Each functions will take numbers as the paremeters, and will return an output based on the given information. For example, the pathagorean theorem function:\n",
    "```\n",
    "print(\"The hypotenuse is: \" + str(pt(12, 8)))\n",
    "```\n",
    "Please see the documentation below for more information."
   ]
  },
  {
   "cell_type": "markdown",
   "metadata": {},
   "source": [
    "## Pathagoraean Theorem\n",
    "This function simply determines the length of the hypotenuse using the given paremeters (a, b).\n",
    "```\n",
    "pt(a, b)\n",
    "```"
   ]
  },
  {
   "cell_type": "code",
   "execution_count": 1,
   "metadata": {
    "collapsed": true
   },
   "outputs": [],
   "source": [
    "import math\n",
    "\n",
    "\n",
    "def pt(a, b):\n",
    "    return math.sqrt((int(a) * int(a)) + (int(b) * int(b)))"
   ]
  },
  {
   "cell_type": "code",
   "execution_count": 2,
   "metadata": {
    "collapsed": false
   },
   "outputs": [
    {
     "name": "stdout",
     "output_type": "stream",
     "text": [
      "4.47213595499958\n"
     ]
    }
   ],
   "source": [
    "print(pt(2, 4))"
   ]
  },
  {
   "cell_type": "markdown",
   "metadata": {},
   "source": [
    "## Slope\n",
    "This function takes in two sets of coordinates and returns the slope, in the form of a decimal. Each corrdinate should be entered individually in the following order: (x1, y1) followed by (x2, y2)\n",
    "```\n",
    "slope(x1, y1, x2, y2)\n",
    "```\n",
    "The first two paremeters (x1, y1), represent the first set of coordinates, i.e. (3, 6). The other two paremeters (x2, y2), represent the second set of coordinates, i.e. (6, 9)."
   ]
  },
  {
   "cell_type": "code",
   "execution_count": 3,
   "metadata": {
    "collapsed": true
   },
   "outputs": [],
   "source": [
    "def slope(x1, y1, x2, y2):\n",
    "    return (y2 - y1) / (x2 - x1)"
   ]
  },
  {
   "cell_type": "code",
   "execution_count": 4,
   "metadata": {
    "collapsed": false
   },
   "outputs": [
    {
     "name": "stdout",
     "output_type": "stream",
     "text": [
      "-0.2\n"
     ]
    }
   ],
   "source": [
    "print(slope(3, 6, 8, 5))"
   ]
  },
  {
   "cell_type": "markdown",
   "metadata": {},
   "source": [
    "## Area of a Triangle\n",
    "This function takes in two paremeters:\n",
    "```\n",
    "area_tri(b, h)\n",
    "```\n",
    "It takes in the paremeter `b` representing the base length. It also takes in the paremeter `h`, which represents the height. The function then utilizes the formula to determine the area of a triangle."
   ]
  },
  {
   "cell_type": "code",
   "execution_count": 5,
   "metadata": {
    "collapsed": true
   },
   "outputs": [],
   "source": [
    "def area_tri(b, h):\n",
    "    return 0.5 * h * b"
   ]
  },
  {
   "cell_type": "code",
   "execution_count": 6,
   "metadata": {
    "collapsed": false
   },
   "outputs": [
    {
     "name": "stdout",
     "output_type": "stream",
     "text": [
      "25.0\n"
     ]
    }
   ],
   "source": [
    "print(area_tri(5, 10))"
   ]
  },
  {
   "cell_type": "markdown",
   "metadata": {},
   "source": [
    "## Area of a Parallelogram\n",
    "This function takes in two paremeters:\n",
    "```\n",
    "area_parallelogram(b, h)\n",
    "```\n",
    "It takes in the paremeter `b` representing the base length. It also takes in the paremeter `h`, which represents the height. The function then utilizes the formula to determine the area of a parallelogram."
   ]
  },
  {
   "cell_type": "code",
   "execution_count": 7,
   "metadata": {
    "collapsed": true
   },
   "outputs": [],
   "source": [
    "def area_parallelogram(b, h):\n",
    "    return b * h"
   ]
  },
  {
   "cell_type": "code",
   "execution_count": 8,
   "metadata": {
    "collapsed": false
   },
   "outputs": [
    {
     "name": "stdout",
     "output_type": "stream",
     "text": [
      "50\n"
     ]
    }
   ],
   "source": [
    "print(area_parallelogram(5, 10))"
   ]
  },
  {
   "cell_type": "code",
   "execution_count": null,
   "metadata": {
    "collapsed": true
   },
   "outputs": [],
   "source": []
  }
 ],
 "metadata": {
  "kernelspec": {
   "display_name": "Python 3",
   "language": "python",
   "name": "python3"
  },
  "language_info": {
   "codemirror_mode": {
    "name": "ipython",
    "version": 3
   },
   "file_extension": ".py",
   "mimetype": "text/x-python",
   "name": "python",
   "nbconvert_exporter": "python",
   "pygments_lexer": "ipython3",
   "version": "3.4.3"
  }
 },
 "nbformat": 4,
 "nbformat_minor": 0
}
